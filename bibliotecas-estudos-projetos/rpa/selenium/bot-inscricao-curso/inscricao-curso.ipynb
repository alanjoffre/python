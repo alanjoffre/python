{
 "cells": [
  {
   "cell_type": "markdown",
   "id": "0c2fd7b5",
   "metadata": {},
   "source": [
    "# Automação Web com Selenium\n",
    "\n",
    "#### Python + Selenium + Automação\n",
    "\n",
    "- Requisitos:\n",
    "    - Nota: Testes efetuados no Windows 10 e 11\n",
    "    - Instalar o Anaconda/Jupyter Notebook - Possui instrução no Youtube\n",
    "    - Instalar o Selenium - Pelo programa ANACONDA POWERSHELL PROMPT, digite: pip install selenium\n",
    "    - Webdriver Manager - Pelo programa ANACONDA POWERSHELL PROMPT, digite: pip install webdriver-manager"
   ]
  },
  {
   "cell_type": "code",
   "execution_count": null,
   "id": "0e9c5e72",
   "metadata": {},
   "outputs": [],
   "source": [
    "from selenium import webdriver\n",
    "from webdriver_manager.chrome import ChromeDriverManager\n",
    "from selenium.webdriver.chrome.service import Service\n",
    "\n",
    "servico = Service(ChromeDriverManager().install())\n",
    "\n",
    "navegador = webdriver.Chrome(service=servico)\n",
    "\n",
    "# Passo 1:\n",
    "# Acessar página web\n",
    "navegador.get(\"https://pages.hashtagtreinamentos.com/inscricao-minicurso-python-automacao-org?origemurl=hashtag_yt_org_minipython_videoselenium\")\n",
    "\n",
    "# Passo 2:\n",
    "# Preenchimento dos campos: Email/Senha\n",
    "navegador.find_element('xpath', \n",
    "                       '//*[@id=\"section-10356508\"]/section/div[2]/div/div[2]/form/div[1]/div/div[1]/div/input').send_keys(\"Lira\")\n",
    "navegador.find_element('xpath', \n",
    "                       '//*[@id=\"section-10356508\"]/section/div[2]/div/div[2]/form/div[1]/div/div[2]/div/input').send_keys(\"pythonimpressionador@gmail.com\")\n",
    "# Passo 3:\n",
    "# Clique no botação acessar a página\n",
    "navegador.find_element('xpath', '//*[@id=\"section-10356508\"]/section/div[2]/div/div[2]/form/button').click()"
   ]
  }
 ],
 "metadata": {
  "kernelspec": {
   "display_name": "venv",
   "language": "python",
   "name": "python3"
  },
  "language_info": {
   "codemirror_mode": {
    "name": "ipython",
    "version": 3
   },
   "file_extension": ".py",
   "mimetype": "text/x-python",
   "name": "python",
   "nbconvert_exporter": "python",
   "pygments_lexer": "ipython3",
   "version": "3.11.1 (tags/v3.11.1:a7a450f, Dec  6 2022, 19:58:39) [MSC v.1934 64 bit (AMD64)]"
  },
  "vscode": {
   "interpreter": {
    "hash": "4fa58b9c16097b12611b54c5e21d73e391998eb8dab3e75bfc6bd0b27faa4340"
   }
  }
 },
 "nbformat": 4,
 "nbformat_minor": 5
}
