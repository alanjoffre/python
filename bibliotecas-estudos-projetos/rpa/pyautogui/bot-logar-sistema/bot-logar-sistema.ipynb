{
 "cells": [
  {
   "cell_type": "markdown",
   "id": "c56b780c",
   "metadata": {},
   "source": [
    "# Python / Bot / PyAutogui"
   ]
  },
  {
   "cell_type": "code",
   "execution_count": 1,
   "id": "29c87a41",
   "metadata": {},
   "outputs": [],
   "source": [
    "import pyautogui\n",
    "\n",
    "pyautogui.PAUSE = 2\n",
    "\n",
    "# abrir a ferramenta/o sistema/o programa\n",
    "pyautogui.press(\"win\")\n",
    "pyautogui.write(\"login.xlsx\")\n",
    "pyautogui.press(\"backspace\")\n",
    "pyautogui.press(\"enter\")\n",
    "# preencher o login\n",
    "pyautogui.click(x=500, y=186)\n",
    "pyautogui.write(\"lira\")\n",
    "\n",
    "# preencher a senha\n",
    "pyautogui.click(x=511, y=225)\n",
    "pyautogui.write(\"senha\")\n",
    "\n",
    "# clicar em fazer login\n",
    "pyautogui.click(x=491, y=347)"
   ]
  },
  {
   "cell_type": "code",
   "execution_count": 2,
   "id": "40f52edf",
   "metadata": {},
   "outputs": [
    {
     "data": {
      "text/plain": [
       "Point(x=1006, y=506)"
      ]
     },
     "execution_count": 2,
     "metadata": {},
     "output_type": "execute_result"
    }
   ],
   "source": [
    "import time\n",
    "\n",
    "time.sleep(3)\n",
    "pyautogui.position()"
   ]
  }
 ],
 "metadata": {
  "kernelspec": {
   "display_name": "Python 3.11.0 64-bit",
   "language": "python",
   "name": "python3"
  },
  "language_info": {
   "codemirror_mode": {
    "name": "ipython",
    "version": 3
   },
   "file_extension": ".py",
   "mimetype": "text/x-python",
   "name": "python",
   "nbconvert_exporter": "python",
   "pygments_lexer": "ipython3",
   "version": "3.11.1 (tags/v3.11.1:a7a450f, Dec  6 2022, 19:58:39) [MSC v.1934 64 bit (AMD64)]"
  },
  "vscode": {
   "interpreter": {
    "hash": "2f3a5c8313fcd7228a6d8526928a7bd18bf9be8d11b61f1962bacbaa97886893"
   }
  }
 },
 "nbformat": 4,
 "nbformat_minor": 5
}
