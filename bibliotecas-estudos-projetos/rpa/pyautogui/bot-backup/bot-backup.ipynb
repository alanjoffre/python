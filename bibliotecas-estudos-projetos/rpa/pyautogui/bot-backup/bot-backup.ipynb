{
 "cells": [
  {
   "cell_type": "markdown",
   "metadata": {},
   "source": [
    "# RPA e Python - Automatize qualquer Processo ou Sistema com Python\n",
    "\n",
    "# Requisitos\n",
    "- Instalar pyautogui\n",
    "- VSCODE: acesse o terminal do programa e digite: pip install pyautogui\n",
    "- ANACONDA: acesse o ANACONDA POWERSHELL PROMPT e digite: pip install pyautogui\n",
    "- Ao rodar o programa, teste efetuado com o programa JUPYTER NOTEBOOK! \n",
    "\n",
    "# pyautogui\n",
    "\n",
    "- Biblioteca para controlar Mouse, Teclado e Tela do Computador com o Python<br>\n",
    "(Link: https://pyautogui.readthedocs.io/en/latest/quickstart.html)\n",
    "\n",
    "- Vamos fazer um exemplo simples aqui, mas repare que isso serve para:\n",
    "    - Qualquer site\n",
    "    - Qualquer programa ou pasta do seu computador\n",
    "    - Qualquer Sistema que você tenha que acessar e automatizar\n",
    "\n",
    "# Lista completa de teclas disponiveis / pyautogui:\n",
    "import pyautogui\n",
    "pyautogui. KEYBOARD_KEYS\n",
    " \n",
    "# Desafio:\n",
    "- Automatizar o backup de arquivos no sistema operacional para o google driver;\n",
    "\n",
    "# Procedimentos:\n",
    "- Abrir o chrome no meu computador\n",
    "- Abrir o google driver no meu computador\n",
    "- Voltar para a janela da área de trabalho\n",
    "- Clicar no arquivo que eu quero fazer backup e arrasta-lo\n",
    "- Enquanto arrasto o arquivo, mudar para a janela do google driver\n",
    "- Largar o arquivo no google driver\n",
    "- Esperar 5 segundos\n",
    "\n",
    "# Dica:\n",
    "- Anote todos os passos do procedimento.\n",
    "- Lembre, tudo o que será feito pela maquina, terá que ser dito/escito para a mesma.\n",
    "\n",
    "### Procedimento para verificar posição real do mouse:\n",
    "### Copie o código abaixo no Jupiter Notebook\n",
    "\n",
    "import pyautogui\n",
    "pyautogui.position()\n",
    "\n",
    "### Coloque o cursor do mouse na posição desejada, para descobrir sua localização: x,y \n",
    "### Não mexa no mouse, volte para a janela do Jupyter notebook\n",
    "### Aperte control + enter\n",
    "### A posição será informada e atualize no código\n",
    "Point(x=892, y=824)\n",
    "\n"
   ]
  },
  {
   "cell_type": "code",
   "execution_count": 1,
   "metadata": {},
   "outputs": [
    {
     "data": {
      "text/plain": [
       "'OK'"
      ]
     },
     "execution_count": 1,
     "metadata": {},
     "output_type": "execute_result"
    }
   ],
   "source": [
    "import pyautogui\n",
    "import time\n",
    "pyautogui.alert(\"O código vai começar. Não use nada do seu computador enquanto o código está rodando\")\n",
    "pyautogui.PAUSE = 0.5\n",
    "# abrir o google drive no meu computador\n",
    "pyautogui.press('winleft')\n",
    "pyautogui.write('chrome')\n",
    "pyautogui.press('enter')\n",
    "time.sleep(1)\n",
    "pyautogui.write(\"https://drive.google.com/drive/my-drive\")\n",
    "pyautogui.press('enter')\n",
    "\n",
    "# entrar na minha área de trabalho\n",
    "pyautogui.hotkey('winleft', 'd')\n",
    "# cliquei no arquivo que eu quero fazer backup e arrastei ele\n",
    "pyautogui.moveTo(43, 916)\n",
    "pyautogui.mouseDown()\n",
    "pyautogui.moveTo(892, 824)\n",
    "\n",
    "# enquanto eu to arrastando, eu vou mudar para o google drive\n",
    "pyautogui.hotkey('alt', 'tab')\n",
    "time.sleep(1)\n",
    "# larguei o arquivo no google drive\n",
    "pyautogui.mouseUp()\n",
    "\n",
    "# esperar 5 segundos\n",
    "time.sleep(5)\n",
    "pyautogui.alert(\"O código acabou de rodar. Pode usar o seu computador de novo\")"
   ]
  }
 ],
 "metadata": {
  "kernelspec": {
   "display_name": "Python 3.11.1 64-bit",
   "language": "python",
   "name": "python3"
  },
  "language_info": {
   "codemirror_mode": {
    "name": "ipython",
    "version": 3
   },
   "file_extension": ".py",
   "mimetype": "text/x-python",
   "name": "python",
   "nbconvert_exporter": "python",
   "pygments_lexer": "ipython3",
   "version": "3.11.1"
  },
  "vscode": {
   "interpreter": {
    "hash": "2f3a5c8313fcd7228a6d8526928a7bd18bf9be8d11b61f1962bacbaa97886893"
   }
  }
 },
 "nbformat": 4,
 "nbformat_minor": 4
}
